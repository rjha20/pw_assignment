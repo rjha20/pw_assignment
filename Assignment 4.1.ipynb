{
 "cells": [
  {
   "cell_type": "markdown",
   "id": "58fb3005-743b-47ec-a16d-bd5e9b357437",
   "metadata": {},
   "source": [
    "## Ques 1) Create a vehicle class with an init method having instance variables as name_of_vehicle, max_speed and average_of_vehicle."
   ]
  },
  {
   "cell_type": "code",
   "execution_count": 3,
   "id": "606189a7-dd05-447c-8cfc-f39f3d2dcf06",
   "metadata": {},
   "outputs": [
    {
     "name": "stdout",
     "output_type": "stream",
     "text": [
      "Mercedes details\n",
      "('Mercedes Benz G class', 220, 90)\n",
      "-------------------------------------------------------------------------------------------------------------------\n",
      "BMW details\n",
      "('BMW X3', 240, 90)\n"
     ]
    }
   ],
   "source": [
    "class vehicle:\n",
    "    def __init__(self,name_of_vehicle,max_speed,average_of_vehicle):\n",
    "        self.name_of_vehicle=name_of_vehicle\n",
    "        self.max_speed=max_speed\n",
    "        self.average_of_vehicle=average_of_vehicle\n",
    "        \n",
    "        \n",
    "    def return_details(self):\n",
    "        return self.name_of_vehicle,self.max_speed,self.average_of_vehicle\n",
    "mercedes=vehicle(\"Mercedes Benz G class\",220,90)\n",
    "bmw=vehicle(\"BMW X3\",240,90)\n",
    "print(\"Mercedes details\")\n",
    "print(mercedes.return_details())\n",
    "print(\"-------------------------------------------------------------------------------------------------------------------\")\n",
    "print(\"BMW details\")\n",
    "print(bmw.return_details())"
   ]
  },
  {
   "cell_type": "markdown",
   "id": "43966011-0955-4f9d-b080-1bb121e624f2",
   "metadata": {},
   "source": [
    "## Q2. Create a child class car from the vehicle class created in Que 1, which will inherit the vehicle class. Create a method named seating_capacity which takes capacity as an argument and returns the name of the vehicle and its seating capacity."
   ]
  },
  {
   "cell_type": "code",
   "execution_count": 11,
   "id": "3aa2cb94-4caa-4f94-9228-a804afbe2084",
   "metadata": {},
   "outputs": [
    {
     "name": "stdout",
     "output_type": "stream",
     "text": [
      "The Mercedes has the seating capacity of 4.\n"
     ]
    }
   ],
   "source": [
    "class child(vehicle):\n",
    "    def seating_capacity(self,capacity):\n",
    "        return f\"The {self.name_of_vehicle} has the seating capacity of {capacity}.\"\n",
    "child_obj=child(\"Mercedes\",220,90)\n",
    "print(child_obj.seating_capacity(4))"
   ]
  },
  {
   "cell_type": "markdown",
   "id": "016c48da-3210-4b51-b6d0-b29bb0626e89",
   "metadata": {},
   "source": [
    "## Ques 3) What is multiple inheritance? Write a python code to demonstrate multiple inheritance."
   ]
  },
  {
   "cell_type": "markdown",
   "id": "e685158d-5553-4b8e-8234-a1dff1b8053c",
   "metadata": {},
   "source": [
    "## Ans:-\n",
    "       Mutiple Inheritance is when one class is derived or when one class has more than one parent class.It is also know as Hierarchical Inheritance.\n",
    "\n"
   ]
  },
  {
   "cell_type": "code",
   "execution_count": 14,
   "id": "cebfac98-a909-4f79-920e-9717be9f7402",
   "metadata": {},
   "outputs": [
    {
     "data": {
      "text/plain": [
       "'This is class A'"
      ]
     },
     "execution_count": 14,
     "metadata": {},
     "output_type": "execute_result"
    }
   ],
   "source": [
    "## Example \n",
    "class a:\n",
    "    def test_a(self):\n",
    "        return \"This is class A\"\n",
    "class b:\n",
    "    def test_b(self):\n",
    "        return \"This is class B\"\n",
    "class c(a,b):\n",
    "    def test_c(self):\n",
    "        return \"This is class C\"\n",
    "obj_c=c()\n",
    "obj_c.test_a()\n"
   ]
  },
  {
   "cell_type": "code",
   "execution_count": 15,
   "id": "31ac6457-7a81-4865-b1de-9d30c95026e0",
   "metadata": {},
   "outputs": [
    {
     "data": {
      "text/plain": [
       "'This is class B'"
      ]
     },
     "execution_count": 15,
     "metadata": {},
     "output_type": "execute_result"
    }
   ],
   "source": [
    "obj_c.test_b()"
   ]
  },
  {
   "cell_type": "code",
   "execution_count": 16,
   "id": "7295eea6-56f2-46bc-afbc-7f1747c5f6cf",
   "metadata": {},
   "outputs": [
    {
     "data": {
      "text/plain": [
       "'This is class C'"
      ]
     },
     "execution_count": 16,
     "metadata": {},
     "output_type": "execute_result"
    }
   ],
   "source": [
    "obj_c.test_c()\n"
   ]
  },
  {
   "cell_type": "markdown",
   "id": "6f8c6db6-0596-4f90-9dcb-1f3851d53c9a",
   "metadata": {},
   "source": [
    "## Ques 4) What are getter and setter in python? Create a class and create a getter and a setter method in this class."
   ]
  },
  {
   "cell_type": "markdown",
   "id": "eb75e229-5a65-4906-8fc1-336b199b9bcd",
   "metadata": {},
   "source": [
    "## Ans :-\n",
    "       Getters and Setters are methods used to access and modify the attributes of an object,and giving access to have control over it. They are commonly used in OOPS for implementation the concept of encapsulation.\n",
    "\n"
   ]
  },
  {
   "cell_type": "code",
   "execution_count": 19,
   "id": "22b0df16-071e-4144-bd6d-71587eb4e28c",
   "metadata": {},
   "outputs": [
    {
     "name": "stdout",
     "output_type": "stream",
     "text": [
      "200\n",
      "10000\n"
     ]
    }
   ],
   "source": [
    "#Example: \n",
    "class pwskills:\n",
    "       def __init__(self, course_price, course_name):\n",
    "                    self.__course_price = course_price\n",
    "                    self.course_name = course_name\n",
    "                      \n",
    "       @property                                 # Getter\n",
    "       def course_price_access(self):\n",
    "                   return self.__course_price\n",
    "\n",
    "       @course_price_access.setter               # Setter\n",
    "       def course_price_set(self,price):\n",
    "                   if price <= 3500:\n",
    "                            pass\n",
    "                   else: \n",
    "                    self.__course_price = price\n",
    "pw = pwskills(200,\"Crash_Course\")\n",
    "print(pw.course_price_access) # Using Getter we can have access to private variable\n",
    "pw.course_price_set = 10000   # Using Setter we can change value of private variable\n",
    "print(pw.course_price_access)\n"
   ]
  },
  {
   "cell_type": "markdown",
   "id": "709eae84-2e97-4f25-9599-20ce9faa98cc",
   "metadata": {},
   "source": [
    "## Ques 5) What is method overriding in python? Write a python code to demonstrate method overriding."
   ]
  },
  {
   "cell_type": "markdown",
   "id": "f4e5e05d-b27a-4e8f-a708-c4e11612c9aa",
   "metadata": {},
   "source": [
    "## Ans :- \n",
    "        Method Overiding is one of the concepts in Polymorphism in OOPS where we have more than one class with same method name and the overide each other according to the instance there are called by.\n",
    "\n"
   ]
  },
  {
   "cell_type": "code",
   "execution_count": null,
   "id": "daf969d2-d183-422e-bfe9-e08894f70ca2",
   "metadata": {},
   "outputs": [],
   "source": [
    "#Example:\n",
    "class A():\n",
    "\tdef __init__(self):\n",
    "\t\tself.value = \"Inside A\"\n",
    "\t\t\n",
    "\tdef show(self):\n",
    "\t\tprint(self.value)\n",
    "\n",
    "class B(A):\n",
    "\n",
    "\tdef __init__(self):\n",
    "\t\tself.value = \"Inside B\"\n",
    "\n",
    "\tdef show(self):\n",
    "\t\tprint(self.value)\n",
    "objA = A()\n",
    "objB = B()  \n",
    "\n",
    "objA.show() # SHow method in Class A\n",
    "objB.show() # Here show method in Class A is overriden by the show method in Class B\n",
    "\n"
   ]
  }
 ],
 "metadata": {
  "kernelspec": {
   "display_name": "Python 3 (ipykernel)",
   "language": "python",
   "name": "python3"
  },
  "language_info": {
   "codemirror_mode": {
    "name": "ipython",
    "version": 3
   },
   "file_extension": ".py",
   "mimetype": "text/x-python",
   "name": "python",
   "nbconvert_exporter": "python",
   "pygments_lexer": "ipython3",
   "version": "3.10.8"
  }
 },
 "nbformat": 4,
 "nbformat_minor": 5
}
