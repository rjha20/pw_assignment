{
 "cells": [
  {
   "cell_type": "markdown",
   "id": "e18abb1a-b1fc-401f-b5d5-cb8f67c30bc4",
   "metadata": {},
   "source": [
    "## Ques 1) Which keyword is used to create a function? Create a function to return a list of odd numbers in the range of 1 to 25."
   ]
  },
  {
   "cell_type": "markdown",
   "id": "eea96811-8c5b-4c8e-97d4-6987d0ef8f77",
   "metadata": {},
   "source": [
    "## Ans :- \n",
    "         \"def\" is the keyword used to create function in python."
   ]
  },
  {
   "cell_type": "code",
   "execution_count": 36,
   "id": "ad958ff6-b6ab-4678-b9e2-20aeae57f46e",
   "metadata": {},
   "outputs": [],
   "source": [
    "#Program to print list of odd numbers in the range of 1 to 25\n",
    "l=[*range(1,26,1)]\n",
    "def odd():\n",
    "    l1=[]\n",
    "    for i in l:\n",
    "        if i%2==1:\n",
    "            l1.append(i)\n",
    "    return l1"
   ]
  },
  {
   "cell_type": "code",
   "execution_count": 40,
   "id": "b936e490-de90-40bd-9d21-727a94998a7e",
   "metadata": {},
   "outputs": [
    {
     "data": {
      "text/plain": [
       "[1, 3, 5, 7, 9, 11, 13, 15, 17, 19, 21, 23, 25]"
      ]
     },
     "execution_count": 40,
     "metadata": {},
     "output_type": "execute_result"
    }
   ],
   "source": [
    "odd()"
   ]
  },
  {
   "cell_type": "markdown",
   "id": "6fb6c270-85ac-4ceb-b5ef-535f07fc9280",
   "metadata": {},
   "source": [
    "## Ques 2) Why *args and **kwargs is used in some functions? Create a function each for *args and **kwargs to demonstrate their use."
   ]
  },
  {
   "cell_type": "markdown",
   "id": "a8c2d05e-9051-4349-af77-03053f589354",
   "metadata": {},
   "source": [
    "## Ans :-\n",
    "         *args and **kwargs are used when the number of arguements are unknown and we can have n number of arguements in the function call.\n",
    "         *args is used only for digits and **kwargs is used for building Key-Value bond in the parameters.\n",
    "\n"
   ]
  },
  {
   "cell_type": "code",
   "execution_count": 6,
   "id": "cf4a3a4e-5092-4a6c-a973-083d7a7ba15a",
   "metadata": {},
   "outputs": [],
   "source": [
    "def sum(*args):\n",
    "    s=0\n",
    "    for i in args:\n",
    "        s+=i\n",
    "    print(s)"
   ]
  },
  {
   "cell_type": "code",
   "execution_count": 2,
   "id": "4d7ac140-3c4c-45ce-bff0-08ba86d40a28",
   "metadata": {},
   "outputs": [
    {
     "name": "stdout",
     "output_type": "stream",
     "text": [
      "6\n"
     ]
    }
   ],
   "source": [
    "sum(1,2,3) "
   ]
  },
  {
   "cell_type": "code",
   "execution_count": 4,
   "id": "bdbfeca0-2d9f-4999-8cb3-07e63b6268c2",
   "metadata": {},
   "outputs": [],
   "source": [
    "def dic(**kwargs):\n",
    "    return kwargs"
   ]
  },
  {
   "cell_type": "code",
   "execution_count": 5,
   "id": "d090ba7f-d158-4794-a9b5-741314d7e5cd",
   "metadata": {},
   "outputs": [
    {
     "data": {
      "text/plain": [
       "{'a': 'rohan', 'b': 'neha'}"
      ]
     },
     "execution_count": 5,
     "metadata": {},
     "output_type": "execute_result"
    }
   ],
   "source": [
    "dic(a=\"rohan\",b=\"neha\")"
   ]
  },
  {
   "cell_type": "markdown",
   "id": "3090c1da-77ff-4fd9-9fdb-bf59c1e7530d",
   "metadata": {},
   "source": [
    "## Q3. What is an iterator in python? Name the method used to initialise the iterator object and the method used for iteration. Use these methods to print the first five elements of the given list [2, 4, 6, 8, 10, 12, 14,16, 18, 20]."
   ]
  },
  {
   "cell_type": "markdown",
   "id": "6737da94-2ec5-4e81-ab1c-b04dca788b59",
   "metadata": {},
   "source": [
    "## Ans :- \n",
    "        Iterator in python is the object that is used for the implementation of the iteration. It consists of two methods and they are \"iter()\" which is used for initialization of the iterator object and \"next()\" which is used to move focus of iterator from present object to next object"
   ]
  },
  {
   "cell_type": "code",
   "execution_count": 8,
   "id": "763b97f0-1de6-4bf3-92a9-bbdef55014eb",
   "metadata": {},
   "outputs": [
    {
     "name": "stdout",
     "output_type": "stream",
     "text": [
      "2\n",
      "4\n",
      "6\n",
      "8\n",
      "10\n"
     ]
    }
   ],
   "source": [
    "l=[2,4,6,8,10,12,14,16,18,20]\n",
    "l1=iter(l)\n",
    "for i in range(5):\n",
    "    x=next(l1)\n",
    "    print(x)"
   ]
  },
  {
   "cell_type": "markdown",
   "id": "105f7265-4479-4ad2-8fa3-37fc795e9641",
   "metadata": {},
   "source": [
    "## Q4. What is a generator function in python? Why yield keyword is used? Give an example of a generator function."
   ]
  },
  {
   "cell_type": "markdown",
   "id": "bc9d91cb-0f3e-4b90-8230-aa6b87244858",
   "metadata": {},
   "source": [
    "## Ans :-\n",
    "         The most common example of this kind of function is range() which returns only an object rather than a datatype. So this kind of function is used to generate a range of certain sequences one by one rather than returning at once.\n",
    "         Here yield keyword is used for the storing the data in the process of iteration operations.\n",
    "\n"
   ]
  },
  {
   "cell_type": "code",
   "execution_count": 9,
   "id": "7898b110-66a8-4ee4-9d3f-8da314f470e9",
   "metadata": {},
   "outputs": [],
   "source": [
    "#Example for generator function in python\n",
    "def fib(n):\n",
    "    a,b=0,1\n",
    "    for i in range(n):\n",
    "        yield a\n",
    "        a,b=b,a+b"
   ]
  },
  {
   "cell_type": "code",
   "execution_count": 10,
   "id": "695b4edc-52bf-41fc-8e3e-260362d9b996",
   "metadata": {},
   "outputs": [
    {
     "name": "stdout",
     "output_type": "stream",
     "text": [
      "0\n",
      "1\n",
      "1\n",
      "2\n",
      "3\n",
      "5\n",
      "8\n"
     ]
    }
   ],
   "source": [
    "for i in fib(7):\n",
    "    print(i)\n",
    "    "
   ]
  },
  {
   "cell_type": "markdown",
   "id": "8a8bf0b6-d827-4600-a794-c776def8e749",
   "metadata": {},
   "source": [
    "## Ques 5) Create a generator function for prime numbers less than 1000. Use the next() method to print the first 20 prime numbers."
   ]
  },
  {
   "cell_type": "code",
   "execution_count": 11,
   "id": "3c8580ac-9cbf-4cd3-a9bf-1956d4b3ef42",
   "metadata": {},
   "outputs": [
    {
     "name": "stdout",
     "output_type": "stream",
     "text": [
      "2\n",
      "3\n",
      "5\n",
      "7\n",
      "11\n",
      "13\n",
      "17\n",
      "19\n",
      "23\n",
      "29\n",
      "31\n",
      "37\n",
      "41\n",
      "43\n",
      "47\n",
      "53\n",
      "59\n",
      "61\n",
      "67\n",
      "71\n"
     ]
    }
   ],
   "source": [
    "def prime_num():\n",
    "    p=[]\n",
    "    n=2\n",
    "    \n",
    "    while n<1000:\n",
    "        is_prime=True\n",
    "        \n",
    "        for prime in p:\n",
    "            if n% prime == 0:\n",
    "                is_prime=False\n",
    "                break\n",
    "                \n",
    "        if is_prime:\n",
    "            p.append(n)\n",
    "            yield n\n",
    "        n+=1\n",
    "        \n",
    "pri=prime_num()\n",
    "for i in range(20):\n",
    "    prime=next(pri)\n",
    "    print(prime)"
   ]
  },
  {
   "cell_type": "markdown",
   "id": "fc23648c-d3fc-42f2-90ad-b60ba019059a",
   "metadata": {},
   "source": [
    "## Ques 6) Write a python program to print the first 10 Fibonacci numbers using a while loop."
   ]
  },
  {
   "cell_type": "code",
   "execution_count": 13,
   "id": "e6bc266f-5f67-490d-80d4-1da0de283456",
   "metadata": {},
   "outputs": [
    {
     "name": "stdout",
     "output_type": "stream",
     "text": [
      "The first 10 Fibonacci numbers are:\n",
      "[0, 1, 1, 2, 3, 5, 8, 13, 21, 34]\n"
     ]
    }
   ],
   "source": [
    "def fibonacci(n):\n",
    "    fib_numbers = [0, 1]\n",
    "\n",
    "    while len(fib_numbers) < n:\n",
    "        next_number = fib_numbers[-1] + fib_numbers[-2]\n",
    "        fib_numbers.append(next_number)\n",
    "\n",
    "    return fib_numbers\n",
    "first_10_fibonacci = fibonacci(10)\n",
    "print(\"The first 10 Fibonacci numbers are:\")\n",
    "print(first_10_fibonacci)\n"
   ]
  },
  {
   "cell_type": "markdown",
   "id": "6143f4b6-b396-44e8-b595-5f47e68ec949",
   "metadata": {},
   "source": [
    "## Ques 7) Write a List Comprehension to iterate through the given string: ‘pwskills’. Expected output: ['p', 'w', 's', 'k', 'i','l', 'l', 's']"
   ]
  },
  {
   "cell_type": "code",
   "execution_count": 16,
   "id": "054d8152-78fb-467f-960f-798c21da9d21",
   "metadata": {},
   "outputs": [
    {
     "name": "stdout",
     "output_type": "stream",
     "text": [
      "['p', 'w', 's', 'k', 'i', 'l', 'l', 's']\n"
     ]
    }
   ],
   "source": [
    "str=\"pwskills\"\n",
    "roh=[x for x in str if x in \"pwskills\"]\n",
    "print(roh)"
   ]
  },
  {
   "cell_type": "markdown",
   "id": "69714838-e50d-4a70-8caa-8e9fe3b7cb18",
   "metadata": {},
   "source": [
    "## Ques 8) Write a python program to check whether a given number is Palindrome or not using a while loop."
   ]
  },
  {
   "cell_type": "code",
   "execution_count": 18,
   "id": "31507289-471e-4196-b64b-ea161b978763",
   "metadata": {},
   "outputs": [
    {
     "name": "stdin",
     "output_type": "stream",
     "text": [
      "Enter a number to check if it's a palindrome:  77\n"
     ]
    },
    {
     "name": "stdout",
     "output_type": "stream",
     "text": [
      "77 is a palindrome.\n"
     ]
    }
   ],
   "source": [
    "def is_palindrome(number):\n",
    "    original_number = number\n",
    "    reversed_number = 0\n",
    "\n",
    "    while number > 0:\n",
    "        digit = number % 10\n",
    "        reversed_number = reversed_number * 10 + digit\n",
    "        number //= 10\n",
    "\n",
    "    return original_number == reversed_number\n",
    "\n",
    "num_to_check = int(input(\"Enter a number to check if it's a palindrome: \"))\n",
    "\n",
    "if is_palindrome(num_to_check):\n",
    "    print(f\"{num_to_check} is a palindrome.\")\n",
    "else:\n",
    "    print(f\"{num_to_check} is not a palindrome.\")\n"
   ]
  },
  {
   "cell_type": "markdown",
   "id": "dd7a0882-c805-42cd-8ca4-3089dfe672f3",
   "metadata": {},
   "source": [
    "## Ques 9) Write a code to print odd numbers from 1 to 100 using list comprehension."
   ]
  },
  {
   "cell_type": "code",
   "execution_count": 21,
   "id": "7430dbc7-3860-4391-b5d3-46f1fb46d356",
   "metadata": {},
   "outputs": [
    {
     "name": "stdout",
     "output_type": "stream",
     "text": [
      "[1, 3, 5, 7, 9, 11, 13, 15, 17, 19, 21, 23, 25, 27, 29, 31, 33, 35, 37, 39, 41, 43, 45, 47, 49, 51, 53, 55, 57, 59, 61, 63, 65, 67, 69, 71, 73, 75, 77, 79, 81, 83, 85, 87, 89, 91, 93, 95, 97, 99]\n"
     ]
    }
   ],
   "source": [
    "l=[*range(1,101,1)]\n",
    "l1=[x for x in l if x%2==1]\n",
    "print(l1)"
   ]
  }
 ],
 "metadata": {
  "kernelspec": {
   "display_name": "Python 3 (ipykernel)",
   "language": "python",
   "name": "python3"
  },
  "language_info": {
   "codemirror_mode": {
    "name": "ipython",
    "version": 3
   },
   "file_extension": ".py",
   "mimetype": "text/x-python",
   "name": "python",
   "nbconvert_exporter": "python",
   "pygments_lexer": "ipython3",
   "version": "3.10.8"
  }
 },
 "nbformat": 4,
 "nbformat_minor": 5
}
