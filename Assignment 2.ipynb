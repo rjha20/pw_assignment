{
 "cells": [
  {
   "cell_type": "markdown",
   "id": "0c29c5f8-0b39-4fc1-9c45-42a61275baeb",
   "metadata": {},
   "source": [
    "## Ques 1) How do you comment code in Python? What are the different types of comments?"
   ]
  },
  {
   "cell_type": "markdown",
   "id": "b1237961-5610-4096-882e-05e3f49c76bd",
   "metadata": {},
   "source": [
    "### Ans :- There are two method of comment code in python :-\n",
    "          (i) Single line comment :- In this method, we can comment only a single line code.\n",
    "                                     And we can do this by using '#' in starting line.\n",
    "                                     Eg...\n",
    "                                     # This is a single line comment \n",
    "          (ii) Multi line comment :- In this method, we can comment multi line code.\n",
    "                                     And we can do this by using [\"\"\"........\"\"\"] in starting and ending of line.\n",
    "                                     Eg...\n",
    "                                     \"\"\"This is a multi line\n",
    "                                           comment\"\"\"\n"
   ]
  },
  {
   "cell_type": "markdown",
   "id": "6ed54549-e3db-4598-8152-a37d345a1e81",
   "metadata": {},
   "source": [
    "## Ques 2) What are variables in Python? How do you declare and assign values to variables?"
   ]
  },
  {
   "cell_type": "markdown",
   "id": "7f0a83ac-1259-4bb7-b76c-04bc90251c56",
   "metadata": {},
   "source": [
    "## Ans :- \n",
    "      Variable :- It is like a container which are used for storing values."
   ]
  },
  {
   "cell_type": "code",
   "execution_count": 2,
   "id": "eeb0ae59-e1b2-4242-9270-712fca0a3de2",
   "metadata": {},
   "outputs": [
    {
     "name": "stdout",
     "output_type": "stream",
     "text": [
      "45\n",
      "69\n"
     ]
    }
   ],
   "source": [
    "#Declaring and assigning values to variables.\n",
    "x= 45\n",
    "y=69\n",
    "print(x)\n",
    "print(y)"
   ]
  },
  {
   "cell_type": "markdown",
   "id": "b3165f1f-0468-4da1-9108-bc985ef2bccd",
   "metadata": {},
   "source": [
    "## Ques 3) How do you convert one data type to another in Python?"
   ]
  },
  {
   "cell_type": "markdown",
   "id": "04676461-41ed-4142-b6a6-191426b28902",
   "metadata": {},
   "source": [
    "## Ans :-\n",
    "         We can convert one data type to another in python by type casting process\n",
    "         Type casting :- It is the method to convert python variable datatype into another data type."
   ]
  },
  {
   "cell_type": "code",
   "execution_count": 3,
   "id": "d424de06-d740-4469-b542-5ff510d79ab1",
   "metadata": {},
   "outputs": [
    {
     "data": {
      "text/plain": [
       "int"
      ]
     },
     "execution_count": 3,
     "metadata": {},
     "output_type": "execute_result"
    }
   ],
   "source": [
    "x=45\n",
    "type(x)"
   ]
  },
  {
   "cell_type": "code",
   "execution_count": 4,
   "id": "75004618-19b1-4fc6-89fe-cea04d47bafa",
   "metadata": {},
   "outputs": [
    {
     "data": {
      "text/plain": [
       "'45'"
      ]
     },
     "execution_count": 4,
     "metadata": {},
     "output_type": "execute_result"
    }
   ],
   "source": [
    "str(x)"
   ]
  },
  {
   "cell_type": "markdown",
   "id": "6661a4e4-36e8-4872-8977-968eb6ee1c8b",
   "metadata": {},
   "source": [
    "## Ques 4) How do you write and execute a Python script from the command line?"
   ]
  },
  {
   "cell_type": "markdown",
   "id": "8d495ab0-98a8-48ce-aa03-714cefbb5105",
   "metadata": {},
   "source": [
    "## Ans :- \n",
    "        1. Verify your terminal or command prompt can run Python\n",
    "        2. Create a Python script that is error-free\n",
    "        3. Use python your/file/name.py to run your script from the terminal"
   ]
  },
  {
   "cell_type": "markdown",
   "id": "c8c28911-bf62-421c-a4c6-63763af84ed1",
   "metadata": {},
   "source": [
    "## Ques 5) Given a list my_list = [1, 2, 3, 4, 5], write the code to slice the list and obtain the sub-list [2, 3]."
   ]
  },
  {
   "cell_type": "code",
   "execution_count": 2,
   "id": "326e933c-52fe-4b35-b723-2e1e8f00be15",
   "metadata": {},
   "outputs": [
    {
     "data": {
      "text/plain": [
       "[2, 3]"
      ]
     },
     "execution_count": 2,
     "metadata": {},
     "output_type": "execute_result"
    }
   ],
   "source": [
    "my_list=[1,2,3,4,5]\n",
    "my_list[1:3]"
   ]
  },
  {
   "cell_type": "markdown",
   "id": "e6389114-7d80-4660-a9fc-7ffc0f9c6177",
   "metadata": {},
   "source": [
    "## Ques 6) What is a complex number in mathematics, and how is it represented in Python?"
   ]
  },
  {
   "cell_type": "markdown",
   "id": "f5348d4f-1c9d-4a19-a3ae-cd74ab97a141",
   "metadata": {},
   "source": [
    "# Ans :-\n",
    "       Complex number :- The number which can be written in the form of a+ib where a and b are real numbers and i is an imaginary  number which is known as iota the value of i=√(-1).\n",
    "       In python it is represented by a+bj where a and b are real number and j is an imaginary number "
   ]
  },
  {
   "cell_type": "code",
   "execution_count": 4,
   "id": "79f65e47-9b8d-4cca-861c-493fa5d6c64a",
   "metadata": {},
   "outputs": [
    {
     "data": {
      "text/plain": [
       "7.0"
      ]
     },
     "execution_count": 4,
     "metadata": {},
     "output_type": "execute_result"
    }
   ],
   "source": [
    "#Example of representation of complex number in python :-\n",
    "x=2+7j\n",
    "x.imag"
   ]
  },
  {
   "cell_type": "code",
   "execution_count": 5,
   "id": "4632ec36-b2ae-4449-9e60-381ec973bf22",
   "metadata": {},
   "outputs": [
    {
     "data": {
      "text/plain": [
       "2.0"
      ]
     },
     "execution_count": 5,
     "metadata": {},
     "output_type": "execute_result"
    }
   ],
   "source": [
    "x.real"
   ]
  },
  {
   "cell_type": "markdown",
   "id": "61c1c327-2341-41fc-b3d1-6e2b1c239201",
   "metadata": {},
   "source": [
    "## Ques 7) What is the correct way to declare a variable named age and assign the value 25 to it?"
   ]
  },
  {
   "cell_type": "markdown",
   "id": "80a75061-620e-4ab5-b607-f7e62d45861b",
   "metadata": {},
   "source": [
    "## Ans :-"
   ]
  },
  {
   "cell_type": "code",
   "execution_count": 6,
   "id": "79e4aee2-1c56-4f76-ac55-72ce5e0e0f57",
   "metadata": {},
   "outputs": [
    {
     "data": {
      "text/plain": [
       "25"
      ]
     },
     "execution_count": 6,
     "metadata": {},
     "output_type": "execute_result"
    }
   ],
   "source": [
    "age=25\n",
    "age"
   ]
  },
  {
   "cell_type": "markdown",
   "id": "48bd3b06-786c-49b0-925b-ef6b6b91b81f",
   "metadata": {},
   "source": [
    "## Ques 8) Declare a variable named price and assign the value 9.99 to it. What data type does this variable belong to?"
   ]
  },
  {
   "cell_type": "markdown",
   "id": "50736f4a-4662-472e-9510-021b686daffe",
   "metadata": {},
   "source": [
    "## Ans :-"
   ]
  },
  {
   "cell_type": "code",
   "execution_count": 7,
   "id": "d48de148-b87c-480c-aa23-1ede9be42a2a",
   "metadata": {},
   "outputs": [
    {
     "data": {
      "text/plain": [
       "float"
      ]
     },
     "execution_count": 7,
     "metadata": {},
     "output_type": "execute_result"
    }
   ],
   "source": [
    "price=9.99\n",
    "type(price)"
   ]
  },
  {
   "cell_type": "markdown",
   "id": "0c4f7c96-37bf-4a91-9250-6982b159e95b",
   "metadata": {},
   "source": [
    "## Ques 9) Create a variable named name and assign your full name to it as a string. How would you print the value of this variable?"
   ]
  },
  {
   "cell_type": "markdown",
   "id": "d98bbcfc-be3d-4338-ab53-ba24fa7247ea",
   "metadata": {},
   "source": [
    "## Ans :-"
   ]
  },
  {
   "cell_type": "code",
   "execution_count": 8,
   "id": "2d0f039b-c6af-4fd5-af0d-f49e6419042a",
   "metadata": {},
   "outputs": [
    {
     "name": "stdout",
     "output_type": "stream",
     "text": [
      "Rohan Jha\n"
     ]
    }
   ],
   "source": [
    "name= \"Rohan Jha\"\n",
    "print(name)"
   ]
  },
  {
   "cell_type": "markdown",
   "id": "d8f97b1a-748b-4078-92ef-6fb0a02ecbd5",
   "metadata": {},
   "source": [
    "## Ques 10) Given the string \"Hello, World!\", extract the substring \"World\"."
   ]
  },
  {
   "cell_type": "markdown",
   "id": "4025b1e7-11e5-44ef-adb7-448be81c0f86",
   "metadata": {},
   "source": [
    "## Ans :-"
   ]
  },
  {
   "cell_type": "code",
   "execution_count": 10,
   "id": "978430d4-1cc5-4bc4-a15f-0d5ccb6b6318",
   "metadata": {},
   "outputs": [
    {
     "data": {
      "text/plain": [
       "'World'"
      ]
     },
     "execution_count": 10,
     "metadata": {},
     "output_type": "execute_result"
    }
   ],
   "source": [
    "str=\"Hello, World!\"\n",
    "str[-6:-1]"
   ]
  },
  {
   "cell_type": "markdown",
   "id": "3e815480-74cd-4946-93b1-f88f7705dd20",
   "metadata": {},
   "source": [
    "## Ques 11) Create a variable named \"is_student\" and assign it a boolean value indicating whether you are currently a student or not."
   ]
  },
  {
   "cell_type": "markdown",
   "id": "a59245c7-b07f-436f-80fd-eff8f3ecc59a",
   "metadata": {},
   "source": [
    "## Ans :-"
   ]
  },
  {
   "cell_type": "code",
   "execution_count": 11,
   "id": "8bf57b51-d425-4fcf-9be4-c2440d9bc2b4",
   "metadata": {},
   "outputs": [],
   "source": [
    "is_student= True"
   ]
  }
 ],
 "metadata": {
  "kernelspec": {
   "display_name": "Python 3 (ipykernel)",
   "language": "python",
   "name": "python3"
  },
  "language_info": {
   "codemirror_mode": {
    "name": "ipython",
    "version": 3
   },
   "file_extension": ".py",
   "mimetype": "text/x-python",
   "name": "python",
   "nbconvert_exporter": "python",
   "pygments_lexer": "ipython3",
   "version": "3.10.8"
  }
 },
 "nbformat": 4,
 "nbformat_minor": 5
}
