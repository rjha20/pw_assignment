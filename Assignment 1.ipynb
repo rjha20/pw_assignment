{
 "cells": [
  {
   "cell_type": "markdown",
   "id": "f48759c9-b39e-42d5-90ed-1c6a52ba307e",
   "metadata": {},
   "source": [
    "# Ques 1) Create one variable containing following type of data:\n",
    "          (i) string\n",
    "          (ii) list\n",
    "          (iii) float\n",
    "          (iv) tuple"
   ]
  },
  {
   "cell_type": "markdown",
   "id": "c146dd3c-c0ee-4e1c-a63e-a9de122ba887",
   "metadata": {},
   "source": [
    "Ans :-\n"
   ]
  },
  {
   "cell_type": "code",
   "execution_count": 1,
   "id": "5bbc73c5-e053-4195-94bc-05ad28d354b9",
   "metadata": {},
   "outputs": [],
   "source": [
    "x=str(\"Rohan\")"
   ]
  },
  {
   "cell_type": "code",
   "execution_count": 3,
   "id": "832d780f-f838-4fb8-9218-722bbcd0c1f0",
   "metadata": {},
   "outputs": [],
   "source": [
    "y=list((1,2,3,\"Ram\",4.5))"
   ]
  },
  {
   "cell_type": "code",
   "execution_count": 5,
   "id": "29c91518-f0f9-4bd0-a1ca-8f1ae1c415a3",
   "metadata": {},
   "outputs": [],
   "source": [
    "z=float(3.9)"
   ]
  },
  {
   "cell_type": "code",
   "execution_count": 6,
   "id": "a9bd4fd0-ddd9-4761-bdb9-23914a9d9eaa",
   "metadata": {},
   "outputs": [],
   "source": [
    "a=tuple((\"Neha\",\"Virat\"))"
   ]
  },
  {
   "cell_type": "markdown",
   "id": "1b5a54f7-76e2-4a18-a500-3b7e9c3bcad1",
   "metadata": {},
   "source": [
    "# Ques 2)Given are some following variables containing data:\n",
    "         (i) var1 = ‘ ‘\n",
    "         (ii) var2 = ‘[ DS , ML , Python]’\n",
    "         (iii) var3 = [ ‘DS’ , ’ML’ , ‘Python’ ]\n",
    "         (iv) var4 = 1.\n",
    "         What will be the data type of the above given variable.\n",
    "         "
   ]
  },
  {
   "cell_type": "markdown",
   "id": "1539a557-ef60-42ef-83fc-33e99abd8bdd",
   "metadata": {},
   "source": [
    "# Ans :- \n",
    "# (i) String\n",
    "# (ii) String\n",
    "# (iii) List\n",
    "# (iv) Float"
   ]
  },
  {
   "cell_type": "code",
   "execution_count": 7,
   "id": "bf763b15-d7ad-48fa-b226-6ca4018c0e5d",
   "metadata": {},
   "outputs": [],
   "source": [
    "var1=' '"
   ]
  },
  {
   "cell_type": "code",
   "execution_count": 8,
   "id": "8169c812-67d8-4ff4-93e5-a86d494d073b",
   "metadata": {},
   "outputs": [
    {
     "name": "stdout",
     "output_type": "stream",
     "text": [
      "<class 'str'>\n"
     ]
    }
   ],
   "source": [
    "print(type(var1))"
   ]
  },
  {
   "cell_type": "code",
   "execution_count": 9,
   "id": "83984e63-cba2-43d7-9b5c-09584548298c",
   "metadata": {},
   "outputs": [],
   "source": [
    "var2='[DS,ML,Python]'"
   ]
  },
  {
   "cell_type": "code",
   "execution_count": 10,
   "id": "9947ca45-d265-4eff-be06-e69d9b6f1b80",
   "metadata": {},
   "outputs": [
    {
     "name": "stdout",
     "output_type": "stream",
     "text": [
      "<class 'str'>\n"
     ]
    }
   ],
   "source": [
    "print(type(var2))"
   ]
  },
  {
   "cell_type": "code",
   "execution_count": 11,
   "id": "e8de4964-cb63-4ade-b9ea-0b8532bd14ae",
   "metadata": {},
   "outputs": [],
   "source": [
    "var3=['DS','ML','Python']"
   ]
  },
  {
   "cell_type": "code",
   "execution_count": 12,
   "id": "fdfc049d-40c1-439a-a590-d42c5fb42230",
   "metadata": {},
   "outputs": [
    {
     "name": "stdout",
     "output_type": "stream",
     "text": [
      "<class 'list'>\n"
     ]
    }
   ],
   "source": [
    "print(type(var3))"
   ]
  },
  {
   "cell_type": "code",
   "execution_count": 13,
   "id": "b8002941-f90c-452c-953e-3cd599deddcf",
   "metadata": {},
   "outputs": [],
   "source": [
    "var4=1."
   ]
  },
  {
   "cell_type": "code",
   "execution_count": 14,
   "id": "78920e6c-ed1a-4429-9ff8-d28e9daa7eb0",
   "metadata": {},
   "outputs": [
    {
     "name": "stdout",
     "output_type": "stream",
     "text": [
      "<class 'float'>\n"
     ]
    }
   ],
   "source": [
    "print(type(var4))"
   ]
  },
  {
   "cell_type": "markdown",
   "id": "8810d342-63c3-495d-850a-7e886717c928",
   "metadata": {},
   "source": [
    "# Ques 3. Explain the use of the following operators using an example:\n",
    "          (i) /\n",
    "          (ii) %\n",
    "          (iii) //\n",
    "          (iv) **"
   ]
  },
  {
   "cell_type": "markdown",
   "id": "ec96c5cd-5d55-4062-89cc-4121e34be445",
   "metadata": {},
   "source": [
    "Ans :-"
   ]
  },
  {
   "cell_type": "markdown",
   "id": "b288e2ff-5c6e-43b0-874f-ebf27f621632",
   "metadata": {},
   "source": [
    "# (i) \"/\" = It is an arithmetic operator which is used for division operation. \n",
    "# (ii) \"%\" = It is an arithmetic operator which is used to print the remainder.\n",
    "# (iii) \"//\" = It is an arithmetic operator which is used for floor division operation.\n",
    "# (iv) \"**\" = It is an arithmetic operator which is used for exponential operation."
   ]
  },
  {
   "cell_type": "markdown",
   "id": "47475891-e98b-4415-bcc2-216be773f9b7",
   "metadata": {},
   "source": [
    "# Q4. Create a list of length 10 of your choice containing multiple types of data. Using for loop print the element and its data type."
   ]
  },
  {
   "cell_type": "markdown",
   "id": "ed1021e7-a1b4-4575-a2ae-c42843d510d8",
   "metadata": {},
   "source": [
    "# Ans :-"
   ]
  },
  {
   "cell_type": "code",
   "execution_count": 16,
   "id": "a7743d29-e5f4-4d0b-90ca-2cb1003f13e6",
   "metadata": {},
   "outputs": [
    {
     "name": "stdout",
     "output_type": "stream",
     "text": [
      "1\n",
      "<class 'int'>\n",
      "2.3\n",
      "<class 'float'>\n",
      "Ram\n",
      "<class 'str'>\n",
      "3\n",
      "<class 'int'>\n",
      "4\n",
      "<class 'int'>\n",
      "Jaya\n",
      "<class 'str'>\n",
      "Sushma\n",
      "<class 'str'>\n",
      "8\n",
      "<class 'int'>\n",
      "9\n",
      "<class 'int'>\n",
      "10\n",
      "<class 'int'>\n"
     ]
    }
   ],
   "source": [
    "l=[1,2.3,\"Ram\",3,4,\"Jaya\",\"Sushma\",8,9,10]\n",
    "for i in l:\n",
    "    print(i)\n",
    "    print(type(i))"
   ]
  },
  {
   "cell_type": "markdown",
   "id": "cc6f160e-bde2-401d-a842-fe7c90c5f07b",
   "metadata": {},
   "source": [
    "# Q5. Using a while loop, verify if the number A is purely divisible by number B and if so then how many times it can be divisible."
   ]
  },
  {
   "cell_type": "markdown",
   "id": "e5bf4635-3435-46ef-95e2-b489bbc7a007",
   "metadata": {},
   "source": [
    "# Ans :-"
   ]
  },
  {
   "cell_type": "code",
   "execution_count": 12,
   "id": "0c4cdeb8-ff4b-4216-9cf6-39d0fb2e98b0",
   "metadata": {},
   "outputs": [
    {
     "name": "stdout",
     "output_type": "stream",
     "text": [
      "25.0 is divisible by 4 and it can be divided 1 times.\n"
     ]
    }
   ],
   "source": [
    "A=100\n",
    "B=4\n",
    "count=0\n",
    "while A % B == 0:\n",
    "    A/=B\n",
    "    count+=1\n",
    "if count>0:\n",
    "    print(f\"{A} is divisible by {B} and it can be divided {count} times.\")\n",
    "else:\n",
    "    print(f\"{A} is not divisible by {B}.\")\n"
   ]
  },
  {
   "cell_type": "markdown",
   "id": "767739f5-7463-4d34-aafe-65255148bf5f",
   "metadata": {},
   "source": [
    "# Q6. Create a list containing 25 int type data. Using for loop and if-else condition print if the element is divisible by 3 or not."
   ]
  },
  {
   "cell_type": "markdown",
   "id": "acbf1afa-80dd-4480-b038-007793979527",
   "metadata": {},
   "source": [
    "# Ans:-"
   ]
  },
  {
   "cell_type": "code",
   "execution_count": 11,
   "id": "31b03016-1445-455e-ac46-5ba016a08689",
   "metadata": {},
   "outputs": [
    {
     "name": "stdout",
     "output_type": "stream",
     "text": [
      "0\n",
      "It is divisible by 3\n",
      "1\n",
      "It is not divisible by 3\n",
      "2\n",
      "It is not divisible by 3\n",
      "3\n",
      "It is divisible by 3\n",
      "4\n",
      "It is not divisible by 3\n",
      "5\n",
      "It is not divisible by 3\n",
      "6\n",
      "It is divisible by 3\n",
      "7\n",
      "It is not divisible by 3\n",
      "8\n",
      "It is not divisible by 3\n",
      "9\n",
      "It is divisible by 3\n",
      "10\n",
      "It is not divisible by 3\n",
      "11\n",
      "It is not divisible by 3\n",
      "12\n",
      "It is divisible by 3\n",
      "13\n",
      "It is not divisible by 3\n",
      "14\n",
      "It is not divisible by 3\n",
      "15\n",
      "It is divisible by 3\n",
      "16\n",
      "It is not divisible by 3\n",
      "17\n",
      "It is not divisible by 3\n",
      "18\n",
      "It is divisible by 3\n",
      "19\n",
      "It is not divisible by 3\n",
      "20\n",
      "It is not divisible by 3\n",
      "21\n",
      "It is divisible by 3\n",
      "22\n",
      "It is not divisible by 3\n",
      "23\n",
      "It is not divisible by 3\n",
      "24\n",
      "It is divisible by 3\n"
     ]
    }
   ],
   "source": [
    "l=list(range(25))\n",
    "for i in l:\n",
    "    print(i)\n",
    "    if i%3==0:\n",
    "        print(\"It is divisible by 3\")\n",
    "    else:\n",
    "        print(\"It is not divisible by 3\")"
   ]
  },
  {
   "cell_type": "markdown",
   "id": "3eed73a1-db4a-458a-8471-7afbc3b953a7",
   "metadata": {},
   "source": [
    "# Q7. What do you understand about mutable and immutable data types? Give examples for both showing this property."
   ]
  },
  {
   "cell_type": "markdown",
   "id": "fb8c0d63-d859-472f-af3f-f06bd9b5753c",
   "metadata": {},
   "source": [
    "# Ans:-"
   ]
  },
  {
   "cell_type": "markdown",
   "id": "73f192b3-dd54-4e8d-8059-be41cd102197",
   "metadata": {},
   "source": [
    "# Immutable Data type :- An immutable object is one whose state cannot be modified once it is created. If any operation is performed on an immutable object that seems to modify it, a new object is actually created with the updated value, while the original object remains unchanged. For example :- Tuple,String,etc.\n",
    "# Mutable Data type :- A mutable object can have its state modified after it is created. This means that the object's value can be changed in-place without creating a new object. For example :- List,Dictionary,etc."
   ]
  },
  {
   "cell_type": "code",
   "execution_count": null,
   "id": "47f19c37-ddd5-4fa7-82ba-6b68308b437b",
   "metadata": {},
   "outputs": [],
   "source": []
  }
 ],
 "metadata": {
  "kernelspec": {
   "display_name": "Python 3 (ipykernel)",
   "language": "python",
   "name": "python3"
  },
  "language_info": {
   "codemirror_mode": {
    "name": "ipython",
    "version": 3
   },
   "file_extension": ".py",
   "mimetype": "text/x-python",
   "name": "python",
   "nbconvert_exporter": "python",
   "pygments_lexer": "ipython3",
   "version": "3.10.8"
  }
 },
 "nbformat": 4,
 "nbformat_minor": 5
}
